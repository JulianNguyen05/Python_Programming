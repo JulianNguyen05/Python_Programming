{
 "cells": [
  {
   "cell_type": "markdown",
   "id": "1aa0f06d",
   "metadata": {},
   "source": [
    "## Câu lệnh if đủ\n"
   ]
  },
  {
   "cell_type": "markdown",
   "id": "9904dde0",
   "metadata": {},
   "source": []
  },
  {
   "cell_type": "code",
   "execution_count": null,
   "id": "ecbeda46",
   "metadata": {},
   "outputs": [],
   "source": [
    "\n"
   ]
  },
  {
   "cell_type": "markdown",
   "id": "04d2f2e8",
   "metadata": {},
   "source": [
    "\"\"\"\n",
    "Ví dụ: Nhập 1 năm dương lịch, kiểm tra năm đó có phải năm nhuận\n",
    "Biết năm nhuận là năm dương lịch thỏa 1 trong 2 điều kiện:\n",
    "  - Chia hết 400, hoặc\n",
    "  - Chia hết 4 và không chia hết 100\n",
    "\"\"\""
   ]
  },
  {
   "cell_type": "code",
   "execution_count": 3,
   "id": "fad898ba",
   "metadata": {},
   "outputs": [
    {
     "name": "stdout",
     "output_type": "stream",
     "text": [
      "Năm dương lịch phải là số nguyên dương, vui lòng nhập lại!\n",
      "Năm dương lịch phải là số nguyên dương, vui lòng nhập lại!\n",
      "Năm 2004 là năm nhuận\n"
     ]
    }
   ],
   "source": [
    "# Bước 1 nhập dữ liệu\n",
    "\n",
    "while True:\n",
    "  try:\n",
    "    year = int(input(\"Nhập năm dương lịch: \"))\n",
    "  except:\n",
    "    print(\"Gía trị không hợp lệ\")\n",
    "  else:\n",
    "    if year > 0 and year % 400 == 0 or (year % 4 == 0 and year % 100 != 0):\n",
    "      break\n",
    "    else:\n",
    "      print(\"Năm dương lịch phải là số nguyên dương, vui lòng nhập lại!\")\n",
    "\n",
    "print(f\"Năm {year} là năm nhuận\")"
   ]
  },
  {
   "cell_type": "code",
   "execution_count": null,
   "id": "71a67e03",
   "metadata": {},
   "outputs": [],
   "source": []
  },
  {
   "cell_type": "code",
   "execution_count": null,
   "id": "d4c622df",
   "metadata": {},
   "outputs": [],
   "source": [
    "1"
   ]
  }
 ],
 "metadata": {
  "kernelspec": {
   "display_name": "Python 3",
   "language": "python",
   "name": "python3"
  },
  "language_info": {
   "codemirror_mode": {
    "name": "ipython",
    "version": 3
   },
   "file_extension": ".py",
   "mimetype": "text/x-python",
   "name": "python",
   "nbconvert_exporter": "python",
   "pygments_lexer": "ipython3",
   "version": "3.13.7"
  }
 },
 "nbformat": 4,
 "nbformat_minor": 5
}
