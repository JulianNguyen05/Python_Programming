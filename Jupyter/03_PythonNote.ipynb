{
 "cells": [
  {
   "cell_type": "markdown",
   "id": "cf68039e-eb4d-4a6e-9615-8d4a46f372aa",
   "metadata": {
    "jupyter": {
     "is_executing": true
    }
   },
   "source": [
    "# Hàm trong Python\n",
    "\n"
   ]
  },
  {
   "cell_type": "code",
   "execution_count": null,
   "id": "a372ef23-1534-415a-8ae8-3c50b1b36cb5",
   "metadata": {},
   "outputs": [],
   "source": []
  },
  {
   "cell_type": "code",
   "execution_count": 4,
   "id": "d9ad6d80-10f5-4390-a574-874567380e0b",
   "metadata": {},
   "outputs": [
    {
     "name": "stdout",
     "output_type": "stream",
     "text": [
      "(79, 'Khánh Hòa')\n",
      "(51, 'TP. Hồ Chí Minh')\n",
      "(30, 'Hà Nội')\n"
     ]
    }
   ],
   "source": [
    "# Ví dụ: Hàm zip()\n",
    "ds_tinh = [\"Khánh Hòa\", \"TP. Hồ Chí Minh\", \"Hà Nội\"]\n",
    "ds_bienso = [79, 51, 30]\n",
    "\n",
    "\n",
    "\n",
    "ds_tinh_bienso = zip(ds_bienso, ds_tinh)\n",
    "\n",
    "for tinh in ds_tinh_bienso:\n",
    "    print(tinh)"
   ]
  },
  {
   "cell_type": "code",
   "execution_count": null,
   "id": "809618a30c153707",
   "metadata": {},
   "outputs": [],
   "source": []
  },
  {
   "cell_type": "markdown",
   "id": "517304881d2c7f92",
   "metadata": {},
   "source": [
    "## Hàm tự định nghĩa\n"
   ]
  },
  {
   "cell_type": "code",
   "execution_count": 4,
   "id": "ca6fcc3a323ccb8b",
   "metadata": {
    "jupyter": {
     "is_executing": true
    }
   },
   "outputs": [
    {
     "name": "stdout",
     "output_type": "stream",
     "text": [
      "5 + 10 = 15\n"
     ]
    }
   ],
   "source": [
    "# Ví dụ: Hàm tính & in ra tông 2 số\n",
    "\n",
    "def TinhTong(a, b):\n",
    "    tong = a + b\n",
    "    print(f\"{a} + {b} = {tong}\")\n",
    "\n",
    "# Gọi hàm\n",
    "x,y = 5,10\n",
    "TinhTong(x,y)"
   ]
  },
  {
   "cell_type": "code",
   "execution_count": null,
   "id": "134fba26-93a4-4327-8464-8ff71833322b",
   "metadata": {},
   "outputs": [],
   "source": []
  },
  {
   "cell_type": "markdown",
   "id": "a85ae7d4",
   "metadata": {},
   "source": []
  },
  {
   "cell_type": "code",
   "execution_count": 3,
   "id": "fe2212cf",
   "metadata": {},
   "outputs": [
    {
     "name": "stdout",
     "output_type": "stream",
     "text": [
      "5 + 10 = 15\n"
     ]
    }
   ],
   "source": [
    "def TinhTong(a, b):\n",
    "    try:\n",
    "        tong = a + b\n",
    "    except:\n",
    "        print(\"Lỗi kiểu dữ liệu, vui lòng nhập số!\")\n",
    "    else:\n",
    "        print(f\"{a} + {b} = {tong}\")\n",
    "\n",
    "# Gọi hàm\n",
    "x,y = 5, 10\n",
    "TinhTong(x,y)"
   ]
  },
  {
   "cell_type": "code",
   "execution_count": null,
   "id": "9608db00-ab36-472e-a650-5c8b628e5347",
   "metadata": {},
   "outputs": [],
   "source": []
  },
  {
   "cell_type": "code",
   "execution_count": null,
   "id": "f3b7d14e",
   "metadata": {},
   "outputs": [],
   "source": []
  },
  {
   "cell_type": "code",
   "execution_count": null,
   "id": "42dd2be1",
   "metadata": {},
   "outputs": [],
   "source": []
  }
 ],
 "metadata": {
  "kernelspec": {
   "display_name": "Python 3",
   "language": "python",
   "name": "python3"
  },
  "language_info": {
   "codemirror_mode": {
    "name": "ipython",
    "version": 3
   },
   "file_extension": ".py",
   "mimetype": "text/x-python",
   "name": "python",
   "nbconvert_exporter": "python",
   "pygments_lexer": "ipython3",
   "version": "3.11.9"
  }
 },
 "nbformat": 4,
 "nbformat_minor": 5
}
