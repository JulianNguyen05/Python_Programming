{
 "cells": [
  {
   "cell_type": "code",
   "execution_count": null,
   "id": "612d5a45-2d26-432c-a009-a06dc21cbcec",
   "metadata": {},
   "outputs": [],
   "source": []
  }
 ],
 "metadata": {
  "kernelspec": {
   "display_name": "",
   "name": ""
  },
  "language_info": {
   "name": ""
  }
 },
 "nbformat": 4,
 "nbformat_minor": 5
}
