{
 "cells": [
  {
   "cell_type": "markdown",
   "id": "cf68039e-eb4d-4a6e-9615-8d4a46f372aa",
   "metadata": {
    "jupyter": {
     "is_executing": true
    }
   },
   "source": [
    "# Hàm trong Python\n",
    "\n"
   ]
  },
  {
   "cell_type": "code",
   "execution_count": 3,
   "id": "d9ad6d80-10f5-4390-a574-874567380e0b",
   "metadata": {},
   "outputs": [
    {
     "name": "stdout",
     "output_type": "stream",
     "text": [
      "(79, 'Khánh Hòa')\n",
      "(51, 'TP. Hồ Chí Minh')\n",
      "(30, 'Hà Nội')\n"
     ]
    }
   ],
   "source": [
    "# Ví dụ: Hàm zip()\n",
    "ds_tinh = [\"Khánh Hòa\", \"TP. Hồ Chí Minh\", \"Hà Nội\"]\n",
    "ds_bienso = [79, 51, 30]\n",
    "\n",
    "\n",
    "\n",
    "ds_tinh_bienso = zip(ds_bienso, ds_tinh)\n",
    "\n",
    "for tinh in ds_tinh_bienso:\n",
    "    print(tinh)"
   ]
  },
  {
   "cell_type": "code",
   "execution_count": null,
   "id": "4e5b175d",
   "metadata": {},
   "outputs": [],
   "source": []
  },
  {
   "cell_type": "markdown",
   "id": "517304881d2c7f92",
   "metadata": {},
   "source": [
    "## Hàm tự định nghĩa\n"
   ]
  },
  {
   "cell_type": "code",
   "execution_count": 4,
   "id": "ca6fcc3a323ccb8b",
   "metadata": {
    "jupyter": {
     "is_executing": true
    }
   },
   "outputs": [
    {
     "name": "stdout",
     "output_type": "stream",
     "text": [
      "5 + 10 = 15\n"
     ]
    }
   ],
   "source": [
    "# Ví dụ: Hàm tính & in ra tông 2 số\n",
    "\n",
    "def TinhTong(a, b):\n",
    "    tong = a + b\n",
    "    print(f\"{a} + {b} = {tong}\")\n",
    "\n",
    "# Gọi hàm\n",
    "x,y = 5,10\n",
    "TinhTong(x,y)"
   ]
  },
  {
   "cell_type": "code",
   "execution_count": 2,
   "id": "fe2212cf",
   "metadata": {},
   "outputs": [
    {
     "name": "stdout",
     "output_type": "stream",
     "text": [
      "5 + 10 = 15\n"
     ]
    }
   ],
   "source": [
    "def TinhTong(a, b):\n",
    "    # Bảo đảm a, b là các số nguyên\n",
    "    assert isinstance(a, int) and isinstance(b, int), \"Phải là số nguyên!\"\n",
    "    \n",
    "    try:\n",
    "        tong = a + b\n",
    "    except:\n",
    "        print(\"Lỗi kiểu dữ liệu, vui lòng nhập số!\")\n",
    "    else:\n",
    "        print(f\"{a} + {b} = {tong}\")\n",
    "\n",
    "# Gọi hàm\n",
    "x,y = 5, 10\n",
    "TinhTong(x,y)"
   ]
  },
  {
   "cell_type": "code",
   "execution_count": null,
   "id": "d02117ae",
   "metadata": {},
   "outputs": [],
   "source": []
  },
  {
   "cell_type": "code",
   "execution_count": 20,
   "id": "42dd2be1",
   "metadata": {},
   "outputs": [
    {
     "data": {
      "text/plain": [
       "[2, 3, 5, 6, 7, 8]"
      ]
     },
     "execution_count": 20,
     "metadata": {},
     "output_type": "execute_result"
    }
   ],
   "source": [
    "# Viết hàm hoán đổi giá trị 2 số nguyên\n",
    "# Dùng hàm này đề sắp xếp tăng dần\n",
    "def Swap(a, b):\n",
    "    return b, a\n",
    "\n",
    "def Sort(array):\n",
    "    assert isinstance(array, list), \"not a list\"\n",
    "    for i in range(len(array) - 1):\n",
    "        for j in range(i + 1, len(array)):\n",
    "            if array[i] > array[j]:\n",
    "                array[i], array[j] = Swap(array[i], array[j])\n",
    "    return array\n",
    "    \n",
    "\n",
    "a = [5, 3, 8, 6, 7, 2]\n",
    "Sort(a)\n"
   ]
  },
  {
   "cell_type": "markdown",
   "id": "4c90df06-f5da-40ce-bcfc-982b43775e4a",
   "metadata": {},
   "source": [
    "# Các hàm đặc biệt trong python\n",
    "## Declabe"
   ]
  },
  {
   "cell_type": "code",
   "execution_count": null,
   "id": "b1e5a443-fd29-4606-a3e0-63c91ce3ca21",
   "metadata": {},
   "outputs": [],
   "source": []
  }
 ],
 "metadata": {
  "kernelspec": {
   "display_name": "Python 3",
   "language": "python",
   "name": "python3"
  },
  "language_info": {
   "codemirror_mode": {
    "name": "ipython",
    "version": 3
   },
   "file_extension": ".py",
   "mimetype": "text/x-python",
   "name": "python",
   "nbconvert_exporter": "python",
   "pygments_lexer": "ipython3",
   "version": "3.13.7"
  }
 },
 "nbformat": 4,
 "nbformat_minor": 5
}
