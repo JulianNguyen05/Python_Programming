{
 "cells": [
  {
   "cell_type": "markdown",
   "id": "4fe46e82-446a-45aa-bbb2-3dcfa69d6f1e",
   "metadata": {},
   "source": [
    "# Demo Notebook\n",
    "- Đây là một file `.ipynb`\n",
    "- Có thể chạy code Python và hiển thị kết quả ngay bên dưới\n"
   ]
  },
  {
   "cell_type": "code",
   "execution_count": 1,
   "id": "2d3766c6-79b0-40a4-9ffa-d7b79a1cc420",
   "metadata": {},
   "outputs": [
    {
     "name": "stdout",
     "output_type": "stream",
     "text": [
      "Hello\n"
     ]
    }
   ],
   "source": [
    "print(\"Hello\")"
   ]
  },
  {
   "cell_type": "markdown",
   "id": "a2bbd80d-45ed-4139-b5d9-6f7cf31d3e05",
   "metadata": {},
   "source": [
    "#Enviroment Settings\n",
    "\n",
    "###Các công cụ lập trình Python thông dụng\n",
    "\n",
    "-\tIDE\n",
    "-\tPythonI DLE: Tích hợp sẵn trong bộ cài đặt Python gốc\n",
    "-\tPycharm: IDE chuyên nghiệp, có đầy đủ tính năng cao cấp, do công ty JetBrain phát triển\n",
    "-\tJupyter Notebook\n",
    "-\tSpyder\n",
    "-\tVScode\n",
    "-\tMôi trường Python trực tuyến\n",
    "\tGoogle Colaboratory\n",
    "Cung cấp môi trường lập trình online, có sẵn đầy đủ thư viện\n",
    "\tCó trợ lý AI Gemini giúp lập trình hiệu quả\n",
    "\n",
    "Kaggle\n"
   ]
  },
  {
   "cell_type": "markdown",
   "id": "e627fd90-49df-4682-a093-49ef0c26178a",
   "metadata": {},
   "source": [
    "## Thực thi chương trình Python\n",
    "### Thực thi chương trình Python trực tiếp từ IDE\n",
    "- Chọn \"Run\"\n",
    "### Thực thi chương trình Python từ dòng lệnh\n",
    "- Nhập lệnh\n",
    "  python \"path-to-python-script.py\""
   ]
  },
  {
   "cell_type": "markdown",
   "id": "7e1d5eda-4292-451f-a980-68cc7392e081",
   "metadata": {},
   "source": [
    "### Các kiểu dữ liệu trong Python\n",
    "\n",
    "- Trong Python, không khai báo kiểu dữ liệu, kiểu của 1 biến sẽ được xác định khi khởi tạo biến\n",
    "- "
   ]
  },
  {
   "cell_type": "code",
   "execution_count": 10,
   "id": "eb71b524-3e79-48ae-a842-f4d8188fcb13",
   "metadata": {},
   "outputs": [
    {
     "name": "stdout",
     "output_type": "stream",
     "text": [
      "Kiểu dữ liệu của n là:  <class 'int'>\n",
      "Kiểu dữ liệu của st là:  <class 'str'>\n",
      "Kiểu dữ liệu của pi là:  <class 'float'>\n"
     ]
    }
   ],
   "source": [
    "# VÍ DỤ\n",
    "n = 3721\n",
    "print(\"Kiểu dữ liệu của n là: \", type(n))\n",
    "st = \"Nha Trang University\"\n",
    "print(\"Kiểu dữ liệu của st là: \", type(st))\n",
    "pi = 3.141592\n",
    "print(\"Kiểu dữ liệu của pi là: \", type(pi))\n",
    "\n"
   ]
  },
  {
   "cell_type": "code",
   "execution_count": 11,
   "id": "8febf737-5175-4a7c-bac6-75d3b69665f1",
   "metadata": {},
   "outputs": [
    {
     "name": "stdout",
     "output_type": "stream",
     "text": [
      "n =  7888609052210118054117285652827862296732064351090230047702789306640625\n"
     ]
    }
   ],
   "source": [
    "m = 5\n",
    "n = m ** 100\n",
    "print(\"n = \", n)\n"
   ]
  },
  {
   "cell_type": "code",
   "execution_count": 15,
   "id": "17cd0970-b4e8-496e-8527-7ec777c36902",
   "metadata": {},
   "outputs": [
    {
     "name": "stdout",
     "output_type": "stream",
     "text": [
      "x = 1.5\n",
      "x = 1\n",
      "x = 1\n"
     ]
    }
   ],
   "source": [
    "m, n = 3, 2\n",
    "\n",
    "x = m /n \n",
    "print(\"x =\", x)\n",
    "\n",
    "x = m // n \n",
    "print(\"x =\", x)\n",
    "\n",
    "x = m % n \n",
    "print(\"x =\", x)"
   ]
  },
  {
   "cell_type": "code",
   "execution_count": 24,
   "id": "419c50af-0e42-4abd-b600-dc889d801c85",
   "metadata": {},
   "outputs": [
    {
     "name": "stdout",
     "output_type": "stream",
     "text": [
      "['Long', 'Ly', 'Quy', 'Phụng']\n",
      "<class 'list'>\n"
     ]
    }
   ],
   "source": [
    "# Kiểu danh sách\n",
    "\n",
    "tứ_linh = [\"Long\", \"Ly\", \"Quy\", \"Phụng\"] # Rất không nên đặt tên Unicode, dù hợp lệ\n",
    "print(tứ_linh)\n",
    "print(type(tứ_linh))"
   ]
  },
  {
   "cell_type": "code",
   "execution_count": 27,
   "id": "c22abd5e-4b50-46ff-9c08-4e254f30508e",
   "metadata": {},
   "outputs": [
    {
     "name": "stdout",
     "output_type": "stream",
     "text": [
      "{'ms': 65133958, 'ht': 'Nguyễn Hữu Trọng', 'dtb': 8.3} <class 'dict'>\n",
      "Apple <class 'str'>\n",
      "568 <class 'int'>\n",
      "[{'ms': 65133958, 'ht': 'Nguyễn Hữu Trọng', 'dtb': 8.3}, 'Apple', 568]\n"
     ]
    }
   ],
   "source": [
    "sv = [{\"ms\": 65133958, \"ht\":\"Nguyễn Hữu Trọng\", \"dtb\": 8.3}, \"Apple\", 568]\n",
    "\n",
    "for i in sv:\n",
    "    print(i, type(i))\n",
    "print(sv)"
   ]
  },
  {
   "cell_type": "code",
   "execution_count": null,
   "id": "02dfdfda-afce-40d1-81ef-fc555950e0ca",
   "metadata": {},
   "outputs": [],
   "source": []
  }
 ],
 "metadata": {
  "kernelspec": {
   "display_name": "Python 3 (ipykernel)",
   "language": "python",
   "name": "python3"
  },
  "language_info": {
   "codemirror_mode": {
    "name": "ipython",
    "version": 3
   },
   "file_extension": ".py",
   "mimetype": "text/x-python",
   "name": "python",
   "nbconvert_exporter": "python",
   "pygments_lexer": "ipython3",
   "version": "3.13.7"
  }
 },
 "nbformat": 4,
 "nbformat_minor": 5
}
