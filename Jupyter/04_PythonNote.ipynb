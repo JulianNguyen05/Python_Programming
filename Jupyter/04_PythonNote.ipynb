{
  "nbformat": 4,
  "nbformat_minor": 0,
  "metadata": {
    "colab": {
      "provenance": []
    },
    "kernelspec": {
      "name": "python3",
      "display_name": "Python 3"
    },
    "language_info": {
      "name": "python"
    }
  },
  "cells": [
    {
      "cell_type": "markdown",
      "source": [
        "# Làm việc với 1 số kiểu dữ liệu nâng cao\n",
        "## Kiểu danh sách(list)\n",
        "## Kiểu tuple\n",
        "## Kiểu từ điển(dict)\n",
        "## Kiểu tập hợp"
      ],
      "metadata": {
        "id": "mL6RFYRQVxnm"
      }
    },
    {
      "cell_type": "markdown",
      "source": [
        "## Kiểu danh sách (List)\n",
        "- Tạo, xử lý danh sách các đối tượng\n",
        "- Các phần tử trong danh sách, không bắt buộc cùng kiểu"
      ],
      "metadata": {
        "id": "8Fv5LcIPV4C3"
      }
    },
    {
      "cell_type": "code",
      "source": [
        "# Ví dụ\n",
        "# Tạo danh sách gồm các số nguyên\n",
        "my_list = [1, 2, 3, 4, 5]\n",
        "print(my_list)\n",
        "# Tạo danh sách sử dụng cú pháp list comprehension\n",
        "squares = [x**2 for x in range(10)]\n",
        "print(squares)\n",
        "# Tạo danh sách các phần tử không cùng kiểu\n",
        "sv = ['Nguyễn Văn Tèo', 7.89]"
      ],
      "metadata": {
        "colab": {
          "base_uri": "https://localhost:8080/"
        },
        "id": "O2iSvcSKWCmj",
        "outputId": "5619fa45-c6b9-443f-c1be-b4b5f8bf2f3e"
      },
      "execution_count": null,
      "outputs": [
        {
          "output_type": "stream",
          "name": "stdout",
          "text": [
            "[1, 2, 3, 4, 5]\n",
            "[0, 1, 4, 9, 16, 25, 36, 49, 64, 81]\n"
          ]
        }
      ]
    },
    {
      "cell_type": "markdown",
      "source": [
        "### Các xử lý với kiểu danh sách"
      ],
      "metadata": {
        "id": "KZs3LjvsWzBU"
      }
    },
    {
      "cell_type": "code",
      "source": [
        "# Duyệt các phần tử\n",
        "# Cách 1:\n",
        "my_list = [1, 2, 3, 4, 5]\n",
        "for item in my_list:\n",
        "    print(item, end=\" \")\n",
        "# Cách 2: truy xuất thông qua chỉ số\n",
        "print(\"\\n\")\n",
        "for i in range(len(my_list)):\n",
        "    print(my_list[i], end=\" \")"
      ],
      "metadata": {
        "colab": {
          "base_uri": "https://localhost:8080/"
        },
        "id": "PpPOEQhAXG10",
        "outputId": "7a753bec-e6c4-4bc3-bb92-1a666ed67770"
      },
      "execution_count": null,
      "outputs": [
        {
          "output_type": "stream",
          "name": "stdout",
          "text": [
            "1 2 3 4 5 \n",
            "\n",
            "1 2 3 4 5 "
          ]
        }
      ]
    },
    {
      "cell_type": "code",
      "source": [
        "# Thêm phần tử vào danh sách\n",
        "my_list = [1, 2, 3, 4, 5]\n",
        "my_list.append(6)\n",
        "print(my_list)\n",
        "\n",
        "# Xóa phần tử khỏi danh sách\n",
        "my_list = [1, 2, 3, 4, 5]\n",
        "my_list.remove(3)\n",
        "print(my_list)\n",
        "\n",
        "# Sắp xếp danh sách\n",
        "my_list = [5, 2, 4, 1, 3]\n",
        "my_list.sort(reverse=True)\n",
        "print(my_list)\n"
      ],
      "metadata": {
        "colab": {
          "base_uri": "https://localhost:8080/"
        },
        "id": "QQlvfhuPXcB6",
        "outputId": "7f0994ed-45ce-44f6-ad5e-1131a97f699e"
      },
      "execution_count": null,
      "outputs": [
        {
          "output_type": "stream",
          "name": "stdout",
          "text": [
            "[1, 2, 3, 4, 5, 6]\n",
            "[1, 2, 4, 5]\n",
            "[5, 4, 3, 2, 1]\n"
          ]
        }
      ]
    },
    {
      "cell_type": "code",
      "source": [
        "# Trích xuất danh sách con\n",
        "my_list = list(range(20))\n",
        "print(my_list)\n",
        "# Tạo danh sách con gồm các phần tử trong đoạn chỉ số [1:3]\n",
        "sub_list = my_list[1:3]\n",
        "print(sub_list)\n",
        "# Tạo danh sách gồm n phần tử đầu tiên\n",
        "n = 5\n",
        "first_n_elements = my_list[:n]\n",
        "print(first_n_elements)\n",
        "# Tạo danh sách gồm n phần tử cuối cùng\n",
        "n = 5\n",
        "last_n_elements = my_list[-n:]\n",
        "print(last_n_elements)\n",
        "# Tạo danh sách đảo ngược\n",
        "reversed_list = my_list[::-1]\n",
        "print(reversed_list)"
      ],
      "metadata": {
        "colab": {
          "base_uri": "https://localhost:8080/"
        },
        "id": "aTcViGysYIUS",
        "outputId": "413cfb40-d3df-424e-fcf5-0e26260c2a0e"
      },
      "execution_count": null,
      "outputs": [
        {
          "output_type": "stream",
          "name": "stdout",
          "text": [
            "[0, 1, 2, 3, 4, 5, 6, 7, 8, 9, 10, 11, 12, 13, 14, 15, 16, 17, 18, 19]\n",
            "[1, 2]\n",
            "[0, 1, 2, 3, 4]\n",
            "[15, 16, 17, 18, 19]\n",
            "[19, 18, 17, 16, 15, 14, 13, 12, 11, 10, 9, 8, 7, 6, 5, 4, 3, 2, 1, 0]\n"
          ]
        }
      ]
    },
    {
      "cell_type": "markdown",
      "source": [
        "## Kiểu dữ liệu từ điển (Dictionary)"
      ],
      "metadata": {
        "id": "_GH1V2ILc3cK"
      }
    },
    {
      "cell_type": "code",
      "source": [
        "# Tạo 1 biến kiểu từ điển chứa thông tin của 1 sinh viên\n",
        "student_info = {\n",
        "    \"MSSV\": \"65133958\",\n",
        "    \"HoTen\": \"Nguyễn Hữu Trọng\",\n",
        "    \"DiemTB\": 7.89\n",
        "}\n",
        "print(student_info)\n"
      ],
      "metadata": {
        "colab": {
          "base_uri": "https://localhost:8080/"
        },
        "id": "mPk3ZtvmcI79",
        "outputId": "c7a45a06-1502-44be-9eca-c9d11d911dd8"
      },
      "execution_count": null,
      "outputs": [
        {
          "output_type": "stream",
          "name": "stdout",
          "text": [
            "{'MSSV': '65133958', 'HoTen': 'Nguyễn Hữu Trọng', 'DiemTB': 7.89}\n"
          ]
        }
      ]
    },
    {
      "cell_type": "code",
      "source": [
        "# Tạo 1 từ điển sử dụng constructor\n",
        "student_info = dict(MSSV=\"65133958\", HoTen=\"Nguyễn Hữu Trọng\", DiemTB=7.89)\n",
        "print(student_info)"
      ],
      "metadata": {
        "colab": {
          "base_uri": "https://localhost:8080/"
        },
        "id": "xJfX5d_heHt_",
        "outputId": "86507621-d620-4396-9026-5dbfd88b359b"
      },
      "execution_count": null,
      "outputs": [
        {
          "output_type": "stream",
          "name": "stdout",
          "text": [
            "{'MSSV': '65133958', 'HoTen': 'Nguyễn Hữu Trọng', 'DiemTB': 7.89}\n"
          ]
        }
      ]
    },
    {
      "cell_type": "code",
      "source": [
        "# Truy xuất dữ liệu từ điển\n",
        "print(student_info[\"MSSV\"])\n",
        "print(student_info[\"HoTen\"])\n",
        "print(student_info[\"DiemTB\"])"
      ],
      "metadata": {
        "colab": {
          "base_uri": "https://localhost:8080/"
        },
        "id": "iyp_iBOkcC7_",
        "outputId": "7ac4ee84-2678-44f8-bfd4-088a967151da"
      },
      "execution_count": null,
      "outputs": [
        {
          "output_type": "stream",
          "name": "stdout",
          "text": [
            "65133958\n",
            "Nguyễn Hữu Trọng\n",
            "7.89\n"
          ]
        }
      ]
    },
    {
      "cell_type": "code",
      "source": [
        "# Ví dụ: Cho đoạn văn bản sau\n",
        "# Đếm số lần của từng từ\n",
        "# Tìm từ xuất hiện nhiều nhất\n",
        "text = \"\"\"\n",
        "Buồn trông cửa bé chiều hôm\n",
        "Thuyền ai thấp thoáng cánh buồm xa xa\n",
        "Buồn trông ngọn nước mới sa\n",
        "Hoa trôi man mác biết là về đâu\n",
        "\"\"\"\n",
        "\n",
        "\n",
        "# Tách văn bản thành các từ đưa vào danh sách\n",
        "words = text.split()\n",
        "# print(words)\n",
        "# Tạo từ điển chứa số lần xuất hiện của mỗi từ\n",
        "word_count = {}\n",
        "# Xét từng từ trong danh sách\n",
        "for w in words:\n",
        "  # Kiểm tra nếu từ lần đầu xuất hiện trong từ điển\n",
        "  # Thì bổ sung từ này vô từ điển & khởi tạo số lượng = 1\n",
        "  if not w in word_count:\n",
        "    word_count[w] = 1\n",
        "  # Ngược lại, nếu từ đã có trong từ điển --> tăng số lượng thêm 1\n",
        "  else:\n",
        "    word_count[w] += 1\n",
        "\n",
        "# In kết quả\n",
        "for k, v in word_count.items():\n",
        "  print(f\"{k}: {v}\")\n",
        "\n",
        "# Tìm từ xuất hiện nhiều nhất\n",
        "most_common_word = max(word_count.items(), key=lambda item: item[1])\n",
        "print(f\"\\nTừ xuất hiện nhiều nhất là: '{most_common_word[0]}' với số lần xuất hiện: {most_common_word[1]}\")\n",
        "\n",
        "# Sắp xếp danh sách các từ giảm dần theo số lần xuất hiện\n",
        "sorted_word_count = sorted(word_count.items(), key=lambda item: item[0], reverse=False)\n",
        "print(\"\\nDanh sách các từ theo số lần xuất hiện giảm dần:\")\n",
        "for w in sorted_word_count:\n",
        "    print(f\"{w[0]}: {w[1]}\")"
      ],
      "metadata": {
        "colab": {
          "base_uri": "https://localhost:8080/"
        },
        "id": "rMvt0YH4gKet",
        "outputId": "fdb81df3-43de-4d0a-e0a9-9dbd8cc6722d"
      },
      "execution_count": 37,
      "outputs": [
        {
          "output_type": "stream",
          "name": "stdout",
          "text": [
            "Buồn: 2\n",
            "trông: 2\n",
            "cửa: 1\n",
            "bé: 1\n",
            "chiều: 1\n",
            "hôm: 1\n",
            "Thuyền: 1\n",
            "ai: 1\n",
            "thấp: 1\n",
            "thoáng: 1\n",
            "cánh: 1\n",
            "buồm: 1\n",
            "xa: 2\n",
            "ngọn: 1\n",
            "nước: 1\n",
            "mới: 1\n",
            "sa: 1\n",
            "Hoa: 1\n",
            "trôi: 1\n",
            "man: 1\n",
            "mác: 1\n",
            "biết: 1\n",
            "là: 1\n",
            "về: 1\n",
            "đâu: 1\n",
            "\n",
            "Từ xuất hiện nhiều nhất là: 'Buồn' với số lần xuất hiện: 2\n",
            "\n",
            "Danh sách các từ theo số lần xuất hiện giảm dần:\n",
            "Buồn: 2\n",
            "Hoa: 1\n",
            "Thuyền: 1\n",
            "ai: 1\n",
            "biết: 1\n",
            "buồm: 1\n",
            "bé: 1\n",
            "chiều: 1\n",
            "cánh: 1\n",
            "cửa: 1\n",
            "hôm: 1\n",
            "là: 1\n",
            "man: 1\n",
            "mác: 1\n",
            "mới: 1\n",
            "ngọn: 1\n",
            "nước: 1\n",
            "sa: 1\n",
            "thoáng: 1\n",
            "thấp: 1\n",
            "trôi: 1\n",
            "trông: 2\n",
            "về: 1\n",
            "xa: 2\n",
            "đâu: 1\n"
          ]
        }
      ]
    },
    {
      "cell_type": "code",
      "metadata": {
        "colab": {
          "base_uri": "https://localhost:8080/"
        },
        "id": "6b6bc105",
        "outputId": "4b435847-a4a9-4d57-82be-68f0edcda3a4"
      },
      "source": [
        "# Viết chương trình mời người dùng nhập năm sinh. In ra tuổi của người đó.\n",
        "# Biết tuổi tính theo công thức:\n",
        "# Tuổi = Năm hiện tại - Năm sinh\n",
        "# Lưu ý: sử dụng thư viện để lấy năm hiện tại tự động.\n",
        "\n",
        "import datetime\n",
        "\n",
        "# Get the current year\n",
        "current_year = datetime.date.today().year\n",
        "\n",
        "# Get the birth year from the user\n",
        "birth_year = int(input())\n",
        "\n",
        "# Calculate the age\n",
        "age = current_year - birth_year\n",
        "\n",
        "# Print the age\n",
        "print(f\"{age}\")"
      ],
      "execution_count": 42,
      "outputs": [
        {
          "output_type": "stream",
          "name": "stdout",
          "text": [
            "1009\n",
            "1016\n"
          ]
        }
      ]
    },
    {
      "cell_type": "code",
      "source": [
        "\"\"\"\n",
        "BMI Calculator\n",
        "\"\"\"\n",
        "\n",
        "# Nhập chiều cao (m) và cân nặng (kg)\n",
        "h = float(input(\"H = \"))\n",
        "w = float(input(\"W = \"))\n",
        "\n",
        "# Tính BMI\n",
        "bmi = w / (h * h)\n",
        "bmi = round(bmi, 1)   # làm tròn đến 1 chữ số\n",
        "\n",
        "# In kết quả\n",
        "print(bmi)\n",
        "\n",
        "# Phân loại theo BMI\n",
        "if bmi < 18.5:\n",
        "    print(\"Gầy\")\n",
        "elif bmi < 25:\n",
        "    print(\"Bình thường\")\n",
        "elif bmi < 30:\n",
        "    print(\"Thừa cân\")\n",
        "else:\n",
        "    print(\"Béo phì\")\n"
      ],
      "metadata": {
        "colab": {
          "base_uri": "https://localhost:8080/"
        },
        "id": "jZ_U5fUDyXt2",
        "outputId": "f78b54a2-8829-4c89-a63a-78181c5e4937"
      },
      "execution_count": 59,
      "outputs": [
        {
          "output_type": "stream",
          "name": "stdout",
          "text": [
            "H = 1.65\n",
            "W = 68\n",
            "25.0\n",
            "Thừa cân\n"
          ]
        }
      ]
    },
    {
      "cell_type": "code",
      "source": [],
      "metadata": {
        "id": "_K7YN5H12mBx"
      },
      "execution_count": null,
      "outputs": []
    },
    {
      "cell_type": "code",
      "source": [],
      "metadata": {
        "id": "IMV_EIFg2iht"
      },
      "execution_count": null,
      "outputs": []
    },
    {
      "cell_type": "code",
      "source": [],
      "metadata": {
        "id": "7IuOQqe62bg-"
      },
      "execution_count": null,
      "outputs": []
    },
    {
      "cell_type": "code",
      "source": [],
      "metadata": {
        "id": "t50FPO4T2WbP"
      },
      "execution_count": null,
      "outputs": []
    },
    {
      "cell_type": "code",
      "source": [],
      "metadata": {
        "id": "WJBnzwD62QAB"
      },
      "execution_count": null,
      "outputs": []
    },
    {
      "cell_type": "code",
      "source": [],
      "metadata": {
        "id": "cJ2rN8WQ17NI"
      },
      "execution_count": null,
      "outputs": []
    },
    {
      "cell_type": "code",
      "source": [],
      "metadata": {
        "id": "M-duYqJO1ov1"
      },
      "execution_count": null,
      "outputs": []
    },
    {
      "cell_type": "code",
      "source": [],
      "metadata": {
        "id": "6l9eaNjT1YK8"
      },
      "execution_count": null,
      "outputs": []
    },
    {
      "cell_type": "code",
      "source": [],
      "metadata": {
        "id": "_VgXyOiI1O9L"
      },
      "execution_count": null,
      "outputs": []
    },
    {
      "cell_type": "code",
      "source": [],
      "metadata": {
        "id": "BN5xvzys0JWX"
      },
      "execution_count": null,
      "outputs": []
    },
    {
      "cell_type": "code",
      "source": [],
      "metadata": {
        "id": "uQDYU8IazNkP"
      },
      "execution_count": null,
      "outputs": []
    },
    {
      "cell_type": "code",
      "source": [],
      "metadata": {
        "id": "DAhkS9fwzJou"
      },
      "execution_count": null,
      "outputs": []
    },
    {
      "cell_type": "code",
      "source": [],
      "metadata": {
        "id": "6njDnMhnzHaI"
      },
      "execution_count": null,
      "outputs": []
    },
    {
      "cell_type": "code",
      "source": [],
      "metadata": {
        "id": "jy58DMIPzEge"
      },
      "execution_count": null,
      "outputs": []
    },
    {
      "cell_type": "code",
      "source": [],
      "metadata": {
        "id": "4fgkyveTxSTr"
      },
      "execution_count": null,
      "outputs": []
    },
    {
      "cell_type": "code",
      "source": [],
      "metadata": {
        "id": "lBRviWWAw-uh"
      },
      "execution_count": null,
      "outputs": []
    },
    {
      "cell_type": "code",
      "source": [],
      "metadata": {
        "id": "1DmdNVdnw8fY"
      },
      "execution_count": null,
      "outputs": []
    },
    {
      "cell_type": "code",
      "source": [],
      "metadata": {
        "id": "ck8dXXKpwWKT"
      },
      "execution_count": null,
      "outputs": []
    },
    {
      "cell_type": "code",
      "source": [],
      "metadata": {
        "id": "e0QSOuVYsJxo"
      },
      "execution_count": null,
      "outputs": []
    },
    {
      "cell_type": "code",
      "source": [],
      "metadata": {
        "id": "czRLi_UeiZT4"
      },
      "execution_count": null,
      "outputs": []
    },
    {
      "cell_type": "code",
      "source": [],
      "metadata": {
        "id": "KBRyR4mLiUZW"
      },
      "execution_count": null,
      "outputs": []
    },
    {
      "cell_type": "code",
      "source": [],
      "metadata": {
        "id": "Ln8eBgcfiR8Y"
      },
      "execution_count": null,
      "outputs": []
    },
    {
      "cell_type": "code",
      "source": [],
      "metadata": {
        "id": "PYfKKTlriRKQ"
      },
      "execution_count": null,
      "outputs": []
    },
    {
      "cell_type": "code",
      "source": [],
      "metadata": {
        "id": "9DqH4TEQhqlI"
      },
      "execution_count": null,
      "outputs": []
    },
    {
      "cell_type": "code",
      "source": [],
      "metadata": {
        "id": "gsGYNVgPhkaM"
      },
      "execution_count": null,
      "outputs": []
    },
    {
      "cell_type": "code",
      "source": [],
      "metadata": {
        "id": "qOBBgbu5hjDA"
      },
      "execution_count": null,
      "outputs": []
    },
    {
      "cell_type": "code",
      "source": [],
      "metadata": {
        "id": "ZropwVB_hQPc"
      },
      "execution_count": null,
      "outputs": []
    },
    {
      "cell_type": "code",
      "source": [],
      "metadata": {
        "id": "1QSTOH0mfxgT"
      },
      "execution_count": null,
      "outputs": []
    },
    {
      "cell_type": "code",
      "source": [],
      "metadata": {
        "id": "gjaJPiNJfeNs"
      },
      "execution_count": null,
      "outputs": []
    }
  ]
}