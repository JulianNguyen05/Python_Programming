{
 "cells": [
  {
   "cell_type": "markdown",
   "id": "1aa0f06d",
   "metadata": {},
   "source": [
    "## Câu lệnh if đủ\n"
   ]
  },
  {
   "cell_type": "markdown",
   "id": "04d2f2e8",
   "metadata": {},
   "source": [
    "\n",
    "# Ví dụ: Nhập 1 năm dương lịch, kiểm tra năm đó có phải năm nhuận\n",
    "Biết năm nhuận là năm dương lịch thỏa 1 trong 2 điều kiện:\n",
    "  - Chia hết 400, hoặc\n",
    "  - Chia hết 4 và không chia hết 100\n"
   ]
  },
  {
   "cell_type": "code",
   "execution_count": 4,
   "id": "fad898ba",
   "metadata": {},
   "outputs": [
    {
     "name": "stdout",
     "output_type": "stream",
     "text": [
      "Năm 2004 là năm nhuận\n"
     ]
    }
   ],
   "source": [
    "# Bước 1 nhập dữ liệu\n",
    "\n",
    "while True:\n",
    "  try:\n",
    "    year = int(input(\"Nhập năm dương lịch: \"))\n",
    "  except:\n",
    "    print(\"Gía trị không hợp lệ\")\n",
    "  else:\n",
    "    if year > 0:\n",
    "      break\n",
    "    else:\n",
    "      print(\"Năm dương lịch phải là số nguyên dương, vui lòng nhập lại!\")\n",
    "\n",
    "# Bước 2 Kiểm tra năm nhuận\n",
    "if year % 400 == 0 or (year % 4 == 0 and year % 100 != 0):\n",
    "  print(f\"Năm {year} là năm nhuận\")\n",
    "else:\n",
    "  print(f\"Năm {year} không phải là năm nhuận\")"
   ]
  },
  {
   "cell_type": "code",
   "execution_count": 5,
   "id": "71a67e03",
   "metadata": {},
   "outputs": [
    {
     "name": "stdout",
     "output_type": "stream",
     "text": [
      "Yếu\n"
     ]
    }
   ],
   "source": [
    "# Ví dụ: Xếp loại học tập dựa theo điểm trung bình\n",
    "dtb = float(input(\"Nhập điểm trung bình: \"))\n",
    "if dtb >= 9:\n",
    "  print(\"Xuất sắc\")\n",
    "elif dtb >= 8:\n",
    "  print(\"Giỏi\")\n",
    "elif dtb >= 7:\n",
    "  print(\"Khá\")\n",
    "elif dtb >= 5:\n",
    "  print(\"Trung bình\")\n",
    "else:\n",
    "  print(\"Yếu\")"
   ]
  },
  {
   "cell_type": "code",
   "execution_count": 6,
   "id": "d4c622df",
   "metadata": {},
   "outputs": [
    {
     "name": "stdout",
     "output_type": "stream",
     "text": [
      "10 là số chẵn\n"
     ]
    }
   ],
   "source": [
    "a = 10\n",
    "print(f\"{a} là số chẵn\") if a % 2 == 0 else print(f\"{a} là số lẻ\")"
   ]
  },
  {
   "cell_type": "markdown",
   "id": "1cf4c71e",
   "metadata": {},
   "source": [
    "# Lệnh lặp for\n"
   ]
  },
  {
   "cell_type": "markdown",
   "id": "0772cb65",
   "metadata": {},
   "source": []
  },
  {
   "cell_type": "code",
   "execution_count": 9,
   "id": "7bb7f354",
   "metadata": {},
   "outputs": [
    {
     "name": "stdout",
     "output_type": "stream",
     "text": [
      "0 1 2 3 4 5 6 7 8 9 "
     ]
    }
   ],
   "source": [
    "# In ra các số nguyên liên tiếp từ 0 đến 9\n",
    "for i in range(10):\n",
    "  print(i, end=\" \")"
   ]
  },
  {
   "cell_type": "code",
   "execution_count": 18,
   "id": "78f2acc0",
   "metadata": {},
   "outputs": [
    {
     "name": "stdout",
     "output_type": "stream",
     "text": [
      "1 3 5 7 9 11 13 15 17 19 21 23 25 27 29 31 33 35 37 39 41 43 45 47 49 51 53 55 57 59 61 63 65 67 69 71 73 75 77 79 81 83 85 87 89 91 93 95 97 99 \n",
      "1 3 5 7 9 11 13 15 17 19 21 23 25 27 29 31 33 35 37 39 41 43 45 47 49 51 53 55 57 59 61 63 65 67 69 71 73 75 77 79 81 83 85 87 89 91 93 95 97 99 "
     ]
    }
   ],
   "source": [
    "# In ra các số nguyên lẻ liên tiếp < 100\n",
    "# Cách 1\n",
    "for i in range(100):\n",
    "  if i % 2 != 0:\n",
    "    print(i, end=\" \")\n",
    "\n",
    "print()  # Xuống dòng\n",
    "# Cách 2 (Ưu tiên dùng cách này)\n",
    "for i in range(1, 100, 2):\n",
    "  print(i, end=\" \")\n"
   ]
  },
  {
   "cell_type": "code",
   "execution_count": 22,
   "id": "5bf778c6",
   "metadata": {},
   "outputs": [
    {
     "name": "stdout",
     "output_type": "stream",
     "text": [
      "Xuân Hạ Thu Đông \n",
      "Mùa 1: Xuân\n",
      "Mùa 2: Hạ\n",
      "Mùa 3: Thu\n",
      "Mùa 4: Đông\n"
     ]
    }
   ],
   "source": [
    "bon_mua = [\"Xuân\", \"Hạ\", \"Thu\", \"Đông\"]\n",
    "for mua in bon_mua:\n",
    "  print(mua, end=\" \") \n",
    "\n",
    "print()  # Xuống dòng\n",
    "\n",
    "for i in range(len(bon_mua)):\n",
    "  print(f\"Mùa {i+1}: {bon_mua[i]}\")"
   ]
  },
  {
   "cell_type": "markdown",
   "id": "9ccfc533",
   "metadata": {},
   "source": [
    "## List comprehension\n"
   ]
  },
  {
   "cell_type": "code",
   "execution_count": 28,
   "id": "c266e6ea",
   "metadata": {},
   "outputs": [
    {
     "name": "stdout",
     "output_type": "stream",
     "text": [
      "[1, 2, 3, 4, 5, 6, 7, 8, 9, 10]\n",
      "\n",
      "[2, 4, 6, 8, 10]\n",
      "[2, 3, 5, 7, 11, 13, 17, 19, 23, 29, 31, 37, 41, 43, 47, 53, 59, 61, 67, 71, 73, 79, 83, 89, 97]\n"
     ]
    }
   ],
   "source": [
    "# Ví dụ: Tạo danh sách các số nguyên liên tiếp từ 1 đến 10\n",
    "\n",
    "numbers = [i for i in range(1, 11)]\n",
    "print(numbers)\n",
    "\n",
    "print()  # Xuống dòng\n",
    "\n",
    "# Tạo danh sách các số nguyên chẵn liên tiếp từ 2 đến 10\n",
    "even_numbers = [i for i in range(2, 11, 2)]\n",
    "print(even_numbers)\n",
    "\n",
    "print()  # Xuống dòng\n",
    "\n",
    "# Tạo danh sách các số nguyên tố liên tiếp từ 2 đến 100\n",
    "def is_prime(n):\n",
    "  if n < 2:\n",
    "    return False\n",
    "  for i in range(2, int(n**0.5) + 1):\n",
    "    if n % i == 0:\n",
    "      return False\n",
    "  return True\n",
    "prime_numbers = [i for i in range(2, 101) if is_prime(i)]\n",
    "print(prime_numbers)"
   ]
  },
  {
   "cell_type": "code",
   "execution_count": null,
   "id": "2ccda720",
   "metadata": {},
   "outputs": [],
   "source": []
  },
  {
   "cell_type": "markdown",
   "id": "67112988",
   "metadata": {},
   "source": [
    "## Bài tập\n",
    "### Nhập số nguyên dương n, in ra các mẫu hình như sau (vd với n = 3)\n",
    "\n",
    "Dạng 1:\n",
    "<pre>\n",
    "*\n",
    "* *\n",
    "* * *\n",
    "\n",
    "Dạng 2:\n",
    "    *\n",
    "  * *\n",
    "* * *\n",
    "Dạng 3:\n",
    "* * *\n",
    "* *\n",
    "*\n",
    "<pre>\n",
    "\n"
   ]
  },
  {
   "cell_type": "code",
   "execution_count": 36,
   "id": "a861c4ef",
   "metadata": {},
   "outputs": [
    {
     "name": "stdout",
     "output_type": "stream",
     "text": [
      "* \n",
      "* * \n",
      "* * * \n",
      "* * * * \n",
      "* * * * * \n",
      "\n",
      "        * \n",
      "      * * \n",
      "    * * * \n",
      "  * * * * \n",
      "* * * * * \n",
      "\n",
      "* * * * * \n",
      "* * * * \n",
      "* * * \n",
      "* * \n",
      "* \n"
     ]
    }
   ],
   "source": [
    "# Cách 1(truyền thống)\n",
    "n = 5\n",
    "\n",
    "for i in range(n):\n",
    "  for j in range(i + 1):\n",
    "    print(\"*\", end=\" \")\n",
    "  print()\n",
    "\n",
    "print()  # Xuống dòng\n",
    "\n",
    "for i in range(n):\n",
    "  for j in range(n - i - 1):\n",
    "    print(\" \", end=\" \")\n",
    "  for k in range(i + 1):\n",
    "    print(\"*\", end=\" \")\n",
    "  print()\n",
    "\n",
    "print()  # Xuống dòng\n",
    "\n",
    "for i in range(n):\n",
    "  for j in range(n - i):\n",
    "    print(\"*\", end=\" \")\n",
    "  print()\n",
    " \n"
   ]
  },
  {
   "cell_type": "code",
   "execution_count": 45,
   "id": "6e6f8cb2",
   "metadata": {},
   "outputs": [
    {
     "name": "stdout",
     "output_type": "stream",
     "text": [
      "* \n",
      "* * \n",
      "* * * \n",
      "* * * * \n",
      "* * * * * \n",
      "* * * * * * \n",
      "* * * * * * * \n",
      "\n",
      "            * \n",
      "          * * \n",
      "        * * * \n",
      "      * * * * \n",
      "    * * * * * \n",
      "  * * * * * * \n",
      "* * * * * * * \n",
      "\n",
      "* * * * * * * \n",
      "* * * * * * \n",
      "* * * * * \n",
      "* * * * \n",
      "* * * \n",
      "* * \n",
      "* \n"
     ]
    }
   ],
   "source": [
    "for i in range(1, n + 1):\n",
    "  print(\"* \" * i)\n",
    "\n",
    "print()  # Xuống dòng\n",
    "for i in range(1, n + 1):\n",
    "  print(\"  \" * (n - i) + \"* \" * i)\n",
    "\n",
    "print()  # Xuống dòng\n",
    "for i in range(n, 0, -1):\n",
    "  print(\"* \" * i)"
   ]
  },
  {
   "cell_type": "code",
   "execution_count": 43,
   "id": "0e3ad7a4",
   "metadata": {},
   "outputs": [
    {
     "name": "stdout",
     "output_type": "stream",
     "text": [
      "* * * * * * * * * * * * * \n",
      " * * * * * * * * * * * \n",
      "  * * * * * * * * * \n",
      "   * * * * * * * \n",
      "    * * * * * \n",
      "     * * * \n",
      "      * \n"
     ]
    }
   ],
   "source": [
    "# Ví dụ: Bài toán thành cổ loa\n",
    "n = 7  # Số vòng thành\n",
    "for i in range(n, 0, -1):\n",
    "  print(\" \" * (n - i) + \"* \" * (2 * i - 1))\n"
   ]
  },
  {
   "cell_type": "code",
   "execution_count": null,
   "id": "127a0ca5",
   "metadata": {},
   "outputs": [
    {
     "name": "stdout",
     "output_type": "stream",
     "text": [
      "1 1 1 1 1 1 1 1 1 1\n",
      "1 0 0 0 0 0 0 0 0 1\n",
      "1 0 0 0 0 0 0 0 0 1\n",
      "1 0 0 0 0 0 0 0 0 1\n",
      "1 0 0 0 0 0 0 0 0 1\n",
      "1 0 0 0 0 0 0 0 0 1\n",
      "1 1 1 1 1 1 1 1 1 1\n",
      "\n",
      "Đường đi: [(1, 1), (1, 2), (1, 3), (1, 4), (1, 5), (1, 6), (1, 7), (1, 8), (2, 8), (3, 8), (4, 8), (5, 8), (5, 7), (5, 6), (5, 5), (5, 4), (5, 3), (5, 2), (5, 1), (4, 1), (3, 1), (2, 1), (1, 1), (1, 2), (1, 3), (1, 4), (1, 5), (1, 6), (1, 7), (1, 8), (2, 8)]\n"
     ]
    },
    {
     "ename": "",
     "evalue": "",
     "output_type": "error",
     "traceback": [
      "\u001b[1;31mThe Kernel crashed while executing code in the current cell or a previous cell. \n",
      "\u001b[1;31mPlease review the code in the cell(s) to identify a possible cause of the failure. \n",
      "\u001b[1;31mClick <a href='https://aka.ms/vscodeJupyterKernelCrash'>here</a> for more info. \n",
      "\u001b[1;31mView Jupyter <a href='command:jupyter.viewOutput'>log</a> for further details."
     ]
    }
   ],
   "source": [
    "# Ta bao các cạnh bên ngoài của thành bằng các phần tử mang giá trị 1.\n",
    "# Tường thành là một mảng 2 chiều.\n",
    "# Tạo một chương trình con để di chuyển, khi đụng trúng bờ bao 1 hoặc đụng trúng lớp tường bên ngoài, sẽ lập tức rẽ phải.\n",
    "\n",
    "def tao_thanh(n, m):\n",
    "    # Tạo mảng 2 chiều n x m, các cạnh ngoài là 1, bên trong là 0\n",
    "    thanh = [[1 if i == 0 or i == n-1 or j == 0 or j == m-1 else 0 for j in range(m)] for i in range(n)]\n",
    "    return thanh\n",
    "\n",
    "def in_thanh(thanh):\n",
    "    for row in thanh:\n",
    "        print(' '.join(str(x) for x in row))\n",
    "    print()\n",
    "\n",
    "def di_chuyen(thanh, start, huong, buoc):\n",
    "    # huong: 0 phải, 1 xuống, 2 trái, 3 lên\n",
    "    dx = [0, 1, 0, -1]\n",
    "    dy = [1, 0, -1, 0]\n",
    "    x, y = start\n",
    "    n, m = len(thanh), len(thanh[0])\n",
    "    duong_di = [(x, y)]\n",
    "    for _ in range(buoc):\n",
    "        nx, ny = x + dx[huong], y + dy[huong]\n",
    "        # Nếu gặp tường (1) hoặc ra ngoài mảng thì rẽ phải\n",
    "        if nx < 0 or nx >= n or ny < 0 or ny >= m or thanh[nx][ny] == 1:\n",
    "            huong = (huong + 1) % 4  # Rẽ phải\n",
    "            nx, ny = x + dx[huong], y + dy[huong]\n",
    "            # Nếu vẫn không đi được thì dừng\n",
    "            if nx < 0 or nx >= n or ny < 0 or ny >= m or thanh[nx][ny] == 1:\n",
    "                break\n",
    "        x, y = nx, ny\n",
    "        duong_di.append((x, y))\n",
    "    return duong_di\n",
    "\n",
    "# Ví dụ sử dụng:\n",
    "n, m = 7, 10\n",
    "thanh = tao_thanh(n, m)\n",
    "in_thanh(thanh)\n",
    "start = (1, 1)  # Bắt đầu từ vị trí (1,1)\n",
    "huong = 0       # Đi sang phải\n",
    "buoc = 30\n",
    "duong_di = di_chuyen(thanh, start, huong, buoc)\n",
    "print(\"Đường đi:\", duong_di)"
   ]
  },
  {
   "cell_type": "code",
   "execution_count": null,
   "id": "f78c21a4",
   "metadata": {},
   "outputs": [],
   "source": []
  }
 ],
 "metadata": {
  "kernelspec": {
   "display_name": "Python 3",
   "language": "python",
   "name": "python3"
  },
  "language_info": {
   "codemirror_mode": {
    "name": "ipython",
    "version": 3
   },
   "file_extension": ".py",
   "mimetype": "text/x-python",
   "name": "python",
   "nbconvert_exporter": "python",
   "pygments_lexer": "ipython3",
   "version": "3.13.7"
  }
 },
 "nbformat": 4,
 "nbformat_minor": 5
}
