{
 "cells": [
  {
   "cell_type": "markdown",
   "id": "cc4b06df",
   "metadata": {},
   "source": [
    "# Demo Notebook\n",
    "- Đây là một file `.ipynb`\n",
    "- Có thể chạy code Python và hiển thị kết quả ngay bên dưới\n",
    "- \n"
   ]
  },
  {
   "cell_type": "markdown",
   "id": "4fe46e82-446a-45aa-bbb2-3dcfa69d6f1e",
   "metadata": {},
   "source": [
    "# Demo Notebook\n",
    "- Đây là một file `.ipynb`\n",
    "- Có thể chạy code Python và hiển thị kết quả ngay bên dưới\n"
   ]
  },
  {
   "cell_type": "code",
   "execution_count": 1,
   "id": "2d3766c6-79b0-40a4-9ffa-d7b79a1cc420",
   "metadata": {},
   "outputs": [
    {
     "name": "stdout",
     "output_type": "stream",
     "text": [
      "Hello\n"
     ]
    }
   ],
   "source": [
    "print(\"Hello\")"
   ]
  },
  {
   "cell_type": "code",
   "execution_count": 3,
   "id": "c99f9d54-bde2-4c4f-8bf0-3d8417ef301a",
   "metadata": {},
   "outputs": [
    {
     "ename": "SyntaxError",
     "evalue": "invalid syntax (3111166912.py, line 8)",
     "output_type": "error",
     "traceback": [
      "  \u001b[36mCell\u001b[39m\u001b[36m \u001b[39m\u001b[32mIn[3]\u001b[39m\u001b[32m, line 8\u001b[39m\n\u001b[31m    \u001b[39m\u001b[31m-\tPython IDLE: Tích hợp sẵn trong bộ cài đặt Python gốc\u001b[39m\n     \t       ^\n\u001b[31mSyntaxError\u001b[39m\u001b[31m:\u001b[39m invalid syntax\n"
     ]
    }
   ],
   "source": [
    "#Enviroment Settings\n",
    "\n",
    "###Các công cụ lập trình Python thông dụng\n",
    "\n",
    "-\tIDE\n",
    "\n",
    "\n",
    "-\tPython IDLE: Tích hợp sẵn trong bộ cài đặt Python gốc\n",
    "\n",
    "-\tPycharm: IDE chuyên nghiệp, có đầy đủ tính năng cao cấp, do công ty JetBrain phát triển\n",
    "-\tJupyter Notebook\n",
    "-\tSpyder\n",
    "-\tVScode\n",
    "-\tMôi trường Python trực tuyến\n",
    "\tGoogle Colaboratory\n",
    "Cung cấp môi trường lập trình online, có sẵn đầy đủ thư viện\n",
    "\tCó trợ lý AI Gemini giúp lập trình hiệu quả\n",
    "\n",
    "Kaggle\n"
   ]
  },
  {
   "cell_type": "markdown",
   "id": "e627fd90-49df-4682-a093-49ef0c26178a",
   "metadata": {},
   "source": [
    "## Thực thi chương trình Python\n",
    "### Thực thi chương trình Python trực tiếp từ IDE\n",
    "- Chọn \"Run\"\n",
    "### Thực thi chương trình Python từ dòng lệnh\n",
    "- Nhập lệnh\n",
    "  python \"path-to-python-script.py\""
   ]
  },
  {
   "cell_type": "code",
   "execution_count": null,
   "id": "e97cdd12-210f-4f5c-af8b-431abb6f5f44",
   "metadata": {},
   "outputs": [],
   "source": []
  }
 ],
 "metadata": {
  "kernelspec": {
   "display_name": "Python 3 (ipykernel)",
   "language": "python",
   "name": "python3"
  },
  "language_info": {
   "codemirror_mode": {
    "name": "ipython",
    "version": 3
   },
   "file_extension": ".py",
   "mimetype": "text/x-python",
   "name": "python",
   "nbconvert_exporter": "python",
   "pygments_lexer": "ipython3",
   "version": "3.13.7"
  }
 },
 "nbformat": 4,
 "nbformat_minor": 5
}
